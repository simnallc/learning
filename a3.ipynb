{
 "cells": [
  {
   "cell_type": "markdown",
   "id": "5990b891",
   "metadata": {},
   "source": [
    "<h1 align='center' style=\"color: blue;\">Assignment #3</h1>"
   ]
  },
  {
   "cell_type": "code",
   "execution_count": 22,
   "id": "044430d8",
   "metadata": {},
   "outputs": [
    {
     "name": "stdout",
     "output_type": "stream",
     "text": [
      "Enter Your Name: Ajay\n",
      "Hello  Ajay\n"
     ]
    }
   ],
   "source": [
    "name = input(\"Enter Your Name: \") # Take Input from user\n",
    "print(\"Hello \",name) # print Name"
   ]
  },
  {
   "cell_type": "markdown",
   "id": "bc3766c2",
   "metadata": {},
   "source": [
    "<b> Q#1</b>(7 points) In this question, you need to use a package called `emoji` in your work. To do so, run the following lines of code to install and import the package into your environment. "
   ]
  },
  {
   "cell_type": "code",
   "execution_count": 6,
   "id": "c43e9d02",
   "metadata": {},
   "outputs": [
    {
     "name": "stdout",
     "output_type": "stream",
     "text": [
      "Defaulting to user installation because normal site-packages is not writeable\n",
      "Requirement already satisfied: emoji in /home/trilok/.local/lib/python3.10/site-packages (2.2.0)\n"
     ]
    }
   ],
   "source": [
    "# install the package\n",
    "!pip install emoji"
   ]
  },
  {
   "cell_type": "code",
   "execution_count": 7,
   "id": "fbeca517",
   "metadata": {},
   "outputs": [],
   "source": [
    "# import the package\n",
    "import emoji"
   ]
  },
  {
   "cell_type": "markdown",
   "id": "366399cc",
   "metadata": {},
   "source": [
    "Now consider the following list:"
   ]
  },
  {
   "cell_type": "code",
   "execution_count": 8,
   "id": "cda5c2ae",
   "metadata": {},
   "outputs": [],
   "source": [
    "emoji_list = [':slightly_smiling_face:',':pensive_face:',':disguised_face:',\n",
    "              ':headphone:',':astonished_face:',':hamburger:',':grinning_face_with_smiling_eyes:',\n",
    "              ':panda:',':fearful_face:',':loudly_crying_face:']"
   ]
  },
  {
   "cell_type": "markdown",
   "id": "fc6c356e",
   "metadata": {},
   "source": [
    "The preceding list contains a list of codes that represent various emojis. Using the `emojize` function, you can see the actual emoji. Here's an example:"
   ]
  },
  {
   "cell_type": "code",
   "execution_count": 9,
   "id": "14317b4b",
   "metadata": {},
   "outputs": [
    {
     "name": "stdout",
     "output_type": "stream",
     "text": [
      ":slightly_smiling_face: --> 🙂\n",
      ":pensive_face: --> 😔\n",
      ":disguised_face: --> 🥸\n",
      ":headphone: --> 🎧\n",
      ":astonished_face: --> 😲\n",
      ":hamburger: --> 🍔\n",
      ":grinning_face_with_smiling_eyes: --> 😄\n",
      ":panda: --> 🐼\n",
      ":fearful_face: --> 😨\n",
      ":loudly_crying_face: --> 😭\n"
     ]
    }
   ],
   "source": [
    "for item in emoji_list:\n",
    "    print(item,'-->',emoji.emojize(item))"
   ]
  },
  {
   "cell_type": "markdown",
   "id": "f404e30e",
   "metadata": {},
   "source": [
    "Your task is to perform following parts:\n",
    "<ol>\n",
    "    <li><b>Part #1:</b>\n",
    "        <ul>\n",
    "        <li>Use the <i>input</i> function to show each of the above emojis to a user and ask her to provide 5 words that describe the emoji. The user should provide 5 single word separated by ';' to describe the emoji. <b>For example:</b> \"Happy;Nice; smile;happy ;cheers \"</li>\n",
    "        <li>After receiving the user's input, you must divide the string into a list of five items, remove any possible white space around the words, and convert all of them to lowercase.<b>For example: </b>the above input should converted into ['happy','nice','smile','happy','cheers'] </li>\n",
    "        <li>Convert the list to a set to eliminate any possible duplicates.  <b>For example: </b>the above set should converted into {'happy','nice','smile','cheers'}   \n",
    "        </li>\n",
    "        <li>Make a dictionary that associates each emoji code with a set of words provided by the user as a descriptor for that emoji. In doing so, you need to use the emoji code as the key and the identified set as the value. <b>For example: </b> {':slightly_smiling_face:':{'happy','nice','smile','cheers'}}\n",
    "         </li>\n",
    "            <li>Using the iterative structure, add one set to the dictionary for each emoji code.</li>  \n",
    "        </ul>\n",
    "    <li><b>Part #2:</b> Use the pickle package to save the dictionary you created in the previous section to a data file.</li>\n",
    "    <li><b>Part #3:</b> Load the saved data to a new variable named <i>emoji_dict</i>.</li>\n",
    "    <li><b>Part #4:</b> Prompt the user to write a sentence containing some of the words she used to describe the emojis. Add the associated emoji to the sentence right after the word that describe the emoji and print it for the user <b>For example: </b> If the user inputs \"I'm so happy today\", your code should print \"I'm so happy 🙂 today.\"</li>\n",
    "         \n",
    "</ol>"
   ]
  },
  {
   "cell_type": "code",
   "execution_count": 23,
   "id": "ce336e8a",
   "metadata": {},
   "outputs": [
    {
     "name": "stdout",
     "output_type": "stream",
     "text": [
      ":slightly_smiling_face: --> 🙂\n",
      "🙂 Provide 5 words that describe the emoji: Happy;Nice; smile;happy ;cheers\n",
      ":pensive_face: --> 😔\n",
      "😔 Provide 5 words that describe the emoji: sad,unhappy,pensive face\n",
      "invalid input! please try again\n",
      "😔 Provide 5 words that describe the emoji: sad; unhappy; pensive face;\n",
      ":disguised_face: --> 🥸\n",
      "🥸 Provide 5 words that describe the emoji: disguised_face;\n",
      ":headphone: --> 🎧\n",
      "🎧 Provide 5 words that describe the emoji: headphone;\n",
      ":astonished_face: --> 😲\n",
      "😲 Provide 5 words that describe the emoji: astonished;\n",
      ":hamburger: --> 🍔\n",
      "🍔 Provide 5 words that describe the emoji: hamburger;\n",
      ":grinning_face_with_smiling_eyes: --> 😄\n",
      "😄 Provide 5 words that describe the emoji: grinning_face_with_smiling_eyes;\n",
      ":panda: --> 🐼\n",
      "🐼 Provide 5 words that describe the emoji: panda;\n",
      ":fearful_face: --> 😨\n",
      "😨 Provide 5 words that describe the emoji: sadness; disappointment; fear; anxiety\n",
      ":loudly_crying_face: --> 😭\n",
      "😭 Provide 5 words that describe the emoji: cry; emotional; heartbreak; very emotional\n"
     ]
    }
   ],
   "source": [
    "emoji_code_dict ={} # declare empty dictionary\n",
    "for item in emoji_list: # itirate emoji_list \n",
    "    print(item, '-->', emoji.emojize(item)) # print emoji with name\n",
    "    invalid_input = 0 # validation variable for input\n",
    "    while invalid_input == 0: # loop itirate till input validation is not correct\n",
    "        user_input = input(str(emoji.emojize(item)) + \" Provide 5 words that describe the emoji: \") # take input from user\n",
    "        if user_input and \";\" in user_input: # check input is not empty and have ; inside it\n",
    "            user_input_exp = user_input.split(\";\") # explode input string by ;\n",
    "            user_input_list = [] # declare empty list\n",
    "            if user_input_exp: \n",
    "                for j in user_input_exp:\n",
    "                    j = j.strip() # strip unwantend space into word\n",
    "                    j = j.lower() #input word to lowercase\n",
    "                    if j is not None and j and j != \"\" not in user_input_list: # if word already not in list then append it to user_input_list\n",
    "                        user_input_list.append(j)\n",
    "                if len(user_input_list):\n",
    "                    invalid_input = 1\n",
    "                    user_input_dict = set(user_input_list)\n",
    "                    emoji_code_dict[item] = user_input_dict # set emoji dictionary according to emoji icons\n",
    "        else:\n",
    "            print(\"invalid input! please try again\")"
   ]
  },
  {
   "cell_type": "code",
   "execution_count": 11,
   "id": "f0b67766",
   "metadata": {},
   "outputs": [],
   "source": [
    "import pickle  #import pickle\n",
    "with open('emoji.pickle', 'wb') as handle: # write a emoji.pickle file\n",
    "    pickle.dump(emoji_code_dict, handle, protocol=pickle.HIGHEST_PROTOCOL)"
   ]
  },
  {
   "cell_type": "code",
   "execution_count": 12,
   "id": "f4e52e88",
   "metadata": {},
   "outputs": [],
   "source": [
    "with open('emoji.pickle', 'rb') as f: # read emoji.pickle file\n",
    "    emoji_dict = pickle.load(f)"
   ]
  },
  {
   "cell_type": "code",
   "execution_count": 30,
   "id": "d5bfb23e",
   "metadata": {},
   "outputs": [
    {
     "name": "stdout",
     "output_type": "stream",
     "text": [
      "Write a sentence containing some of the words: i am so happy\n",
      "i am so happy🙂\n"
     ]
    }
   ],
   "source": [
    "user_input_promt = input('Write a sentence containing some of the words: ') #take input from user\n",
    "if user_input_promt:\n",
    "    user_input_promt_exp = user_input_promt.split(\" \") #explode user input by space\n",
    "    output_string = None # declare a variable which is used to display output\n",
    "    for j in user_input_promt_exp: # list loop \n",
    "        if j.isalpha(): # if word is aplhabhets\n",
    "            j = j.lower() # convert it to lowercase\n",
    "            for emoji_icon in emoji_dict: # if word is in emojidict\n",
    "                emoji_icon_string_list = emoji_dict[emoji_icon]\n",
    "                if j in emoji_icon_string_list:\n",
    "                    j = j+emoji.emojize(emoji_icon)\n",
    "                    break\n",
    "\n",
    "        if output_string is None:\n",
    "            output_string = j # make output string\n",
    "        else:\n",
    "            output_string = output_string+\" \"+  emoji.emojize(j) # make output string\n",
    "    # if output string is not None\n",
    "    if output_string:\n",
    "        print(output_string)"
   ]
  },
  {
   "cell_type": "markdown",
   "id": "4a167695",
   "metadata": {},
   "source": [
    "<b> Q#2</b>(6 points) Let's use object oriented programming for our Emoji work. In doing so you need to perform the following tasks.\n",
    "\n",
    "<ol>\n",
    "    <li><b>Part #1:</b>\n",
    "        <ul>\n",
    "        <li>Create a class called <i>emoji_descriptor</i>. Each object created with the emoji_descriptor class has two attributes: <b>emoji_code</b> and <b>emoji_descriptors.</b> Both of these attributes should be hidden and inaccessible from the outside.</li>\n",
    "            <li>The class should initialize the value of these two attributes in the following manner: <b>1.</b> emoji_code should be initialized by getting one input value form the user, <b>2.</b> emoji_descriptors should be initialized with an empty set or by a set of word descriptors provided by the user. <b>For example: </b> you should be able to create an instance of emoji_descriptor class using either <b>my_emoji_obj =  emoji_descriptor(':slightly_smiling_face:',{'happy','smile'})</b>, or  <b>my_emoji_obj =  emoji_descriptor(':slightly_smiling_face:')</b></li>\n",
    "            <li>The class should include a method called update_descriptors. This method should be designed in such a way that it accepts a set variable as an input and updates the emoji_descriptors attribute by adding the items in the input set to the existing descriptors.</li>\n",
    "            <li>The class should include a method called remove_descriptors. This method should be designed in such a way that it accepts a set variable as an input and updates the emoji_descriptors attribute by removing the items in the input set from the existing descriptors in the emoji_descriptors attribute.</li>\n",
    "            <li>The class should include a method called get_emoji_code. This method should return the value of emoji_code attribute.</li>\n",
    "            <li>The class should include a method called get_descriptors. This method should return the value of emoji_descriptors attribute.</li>\n",
    "            <li>The class should also have an __str__ method. As a result, if a user prints the object associated with the class, the emoji icon associated with the emoji code is displayed. </li>\n",
    "        </ul>\n",
    "    </li>\n",
    "    <li><b>Part #2:</b> Save the class code as emoji_descriptor.py</li>\n",
    "    <li><b>Part #3:</b> Import the class file in your code and create a sample object for the :fearful_face:. Test all the methods of the class in your code to show that they are functional.</li>\n",
    "</ol>"
   ]
  },
  {
   "cell_type": "code",
   "execution_count": 31,
   "id": "f761203b",
   "metadata": {},
   "outputs": [
    {
     "name": "stdout",
     "output_type": "stream",
     "text": [
      "Overwriting emoji_descriptor.py\n"
     ]
    }
   ],
   "source": [
    "%%writefile emoji_descriptor.py\n",
    "class emoji_descriptor:\n",
    "\n",
    "    # init method or constructor\n",
    "    def __init__(self, param1, param2=set()):\n",
    "        self.emoji_code = param1\n",
    "        self.emoji_descriptors = param2\n",
    "\n",
    "    def update_descriptors(self, param):\n",
    "        if param:\n",
    "            for k in param:\n",
    "                self.emoji_descriptors.add(k)\n",
    "\n",
    "    def remove_descriptors(self, param):\n",
    "        if param:\n",
    "            for k in param:\n",
    "                if k in self.emoji_descriptors:\n",
    "                    self.emoji_descriptors.remove(k)\n",
    "\n",
    "    def get_emoji_code(self):\n",
    "        return self.emoji_code\n",
    "\n",
    "    def get_descriptors(self):\n",
    "        return self.emoji_descriptors\n",
    "\n",
    "    def __str__(self):\n",
    "        print(self.emoji_code)\n",
    "        print(self.emoji_descriptors)"
   ]
  },
  {
   "cell_type": "code",
   "execution_count": 32,
   "id": "42716361",
   "metadata": {},
   "outputs": [],
   "source": [
    "# Write part #2 code here"
   ]
  },
  {
   "cell_type": "code",
   "execution_count": 33,
   "id": "60f196ac",
   "metadata": {},
   "outputs": [
    {
     "name": "stdout",
     "output_type": "stream",
     "text": [
      "🙂\n",
      "{'smile'}\n"
     ]
    }
   ],
   "source": [
    "from emoji_descriptor import emoji_descriptor\n",
    "my_emoji_obj = emoji_descriptor(':slightly_smiling_face:', {'happy', 'smile'})\n",
    "\n",
    "my_emoji_obj.remove_descriptors({\"happy\"})\n",
    "print(emoji.emojize(my_emoji_obj.get_emoji_code()))\n",
    "print(my_emoji_obj.get_descriptors())"
   ]
  },
  {
   "cell_type": "markdown",
   "id": "0f7df662",
   "metadata": {},
   "source": [
    "<b>Q#3</b>(5 points) Write a class named <b><i>Patient</i></b> that has attributes for the following data:\n",
    "<br>\n",
    "<ul><li>First name and last name</li>\n",
    "<li>Date of birth</li>\n",
    "<li>Address, city, state, and ZIP code</li>\n",
    "<li>Phone number</li>\n",
    "</ul>\n",
    "<br>\n",
    "The Patient class’s _ _init_ _ method should accept an argument for each attribute. \n",
    "<br>Next, write a class named <b><i>Appointment</i></b> that represents an appointment that is assigned to a patient. \n",
    "<br>The Procedure class should have attributes for the following data:\n",
    "<br>\n",
    "<ul>  \n",
    "<li>Date of the appointment</li>\n",
    "<li>Reason of the appointment</li>\n",
    "<li>Name of the practitioner who visited a patient</li>\n",
    "<li>Bill for the appointment</li></ul>\n",
    "The Appointment class’s _ _init_ _ method should accept an argument for each attribute.\n",
    "Next, write a program that creates an instance of the Patient class, initialized with sample data. Then, create three instances of the Appointment class, initialized with the following data:\n",
    "<br>\n",
    "<ul>\n",
    "    <li>Appointment #1: Date: 08/15/2022 , Reason: Physical Exam, Practitioner: Dr. Kohen, Bill: 150.00</li>\n",
    "    <li>Appointment #2: Date: 08/10/2022 , Reason: Blood Test, Practitioner: Dr. Ambory, Bill: 400.00</li>\n",
    "    <li>Appointment #3: Date: 08/18/2022 , Reason: Eye Exam, Practitioner: Dr. Masir, Bill: 240.00</li>\n",
    "     <li>Appointment #4: Date: 08/23/2022 , Reason: Ear Exam, Practitioner: Dr. Gaddis, Bill: 760.00</li>\n",
    "</ul>\n",
    "<br>\n",
    "The program should display the patient’s information, information about all four of the appointments, and the total bills of the three appointments.\n",
    "</br>\n",
    "<br>\n",
    "<i> Hint: use the magic function to save your classes.</i>"
   ]
  },
  {
   "cell_type": "code",
   "execution_count": 1,
   "id": "33ba9b3f",
   "metadata": {},
   "outputs": [
    {
     "name": "stdout",
     "output_type": "stream",
     "text": [
      "*********Paitent Information:*********\n",
      "Paitent Name:ajay ajay\n",
      "Paitent Date Of Birth:02/09/1999\n",
      "Paitent Address:848 w\n",
      "Paitent City:mitchell st\n",
      "Paitent State:arlington\n",
      "Paitent Zip Code:texas\n",
      "Paitent Phone Number:76013\n",
      "***************************************\n",
      "Appointment #1: Date: 08/15/2022 , Reason: Physical Exam, Practitioner: Dr. Kohen, Bill: 150.00\n",
      "Appointment #2: Date: 08/10/2022 , Reason: Blood Test, Practitioner: Dr. Ambory, Bill: 400.00\n",
      "Appointment #3: Date: 08/18/2022 , Reason: Eye Exam, Practitioner: Dr. Masir, Bill: 240.00\n",
      "Appointment #4: Date: 08/23/2022 , Reason: Eye Exam, Practitioner: Dr. Gaddis, Bill: 760.00\n",
      "Total Bill of all four appointments: 1550.0\n"
     ]
    }
   ],
   "source": [
    "class Patient:\n",
    "\n",
    "    # init method or constructor\n",
    "    def __init__(self, param1, param2, param3, param4, param5, param6, param7, param8):\n",
    "        self.first_name = param1\n",
    "        self.last_name = param2\n",
    "        self.date_of_birth = param3\n",
    "        self.address = param4\n",
    "        self.city = param5\n",
    "        self.state = param6\n",
    "        self.zip_code = param7\n",
    "        self.phone_number = param8\n",
    "\n",
    "    def get_first_name(self):\n",
    "        return self.first_name\n",
    "\n",
    "    def get_last_name(self):\n",
    "        return self.last_name\n",
    "\n",
    "    def get_date_of_birth(self):\n",
    "        return self.date_of_birth\n",
    "\n",
    "    def get_address(self):\n",
    "        return self.address\n",
    "\n",
    "    def get_city(self):\n",
    "        return self.city\n",
    "\n",
    "    def get_state(self):\n",
    "        return self.state\n",
    "\n",
    "    def get_zip_code(self):\n",
    "        return self.zip_code\n",
    "\n",
    "    def get_phone_number(self):\n",
    "        return self.phone_number\n",
    "    \n",
    "    \n",
    "class Appointment:\n",
    "    appointment_number = 0\n",
    "\n",
    "    # init method or constructor\n",
    "    def __init__(self, param1, param2, param3, param4):\n",
    "        self.date_of_appointment = param1\n",
    "        self.reason_of_appointment = param2\n",
    "        self.practitioner_name = param3\n",
    "        self.appointment_bill = param4\n",
    "\n",
    "    def display_patient_information(self, appointment_id):\n",
    "        print(\"Appointment #\" + str(appointment_id) + \": Date: \" + str(self.date_of_appointment) + \" , Reason: \" + str(\n",
    "            self.reason_of_appointment) + \", Practitioner: \" + str(self.practitioner_name) + \", Bill: \" + str(\n",
    "            self.appointment_bill))\n",
    "\n",
    "    def get_bill(self):\n",
    "        return float(self.appointment_bill)\n",
    "\n",
    "obj_patient = Patient(\"ajay\", \"polsani\", \"02/09/1999\", \"848 w\", \"mitchell st\", \"arlington\", \"texas\", \"76013\")\n",
    "print(\"*********Paitent Information:*********\")\n",
    "print(\"Paitent Name:\" + str(obj_patient.get_first_name()) + \" \" + str(obj_patient.get_first_name()))\n",
    "print(\"Paitent Date Of Birth:\" + str(obj_patient.get_date_of_birth()))\n",
    "print(\"Paitent Address:\" + str(obj_patient.get_address()))\n",
    "print(\"Paitent City:\" + str(obj_patient.get_city()))\n",
    "print(\"Paitent State:\" + str(obj_patient.get_state()))\n",
    "print(\"Paitent Zip Code:\" + str(obj_patient.get_zip_code()))\n",
    "print(\"Paitent Phone Number:\" + str(obj_patient.get_phone_number()))\n",
    "print(\"***************************************\")\n",
    "\n",
    "appointment_count = 0\n",
    "total_bill = 0\n",
    "appointment_count += 1\n",
    "obj_appointment = Appointment(\"08/15/2022\", \"Physical Exam\", \"Dr. Kohen\", \"150.00\")\n",
    "obj_appointment.display_patient_information(appointment_count)\n",
    "total_bill += obj_appointment.get_bill()\n",
    "\n",
    "appointment_count += 1\n",
    "obj_appointment = Appointment(\"08/10/2022\", \"Blood Test\", \"Dr. Ambory\", \"400.00\")\n",
    "obj_appointment.display_patient_information(appointment_count)\n",
    "total_bill += obj_appointment.get_bill()\n",
    "\n",
    "appointment_count += 1\n",
    "obj_appointment = Appointment(\"08/18/2022\", \"Eye Exam\", \"Dr. Masir\", \"240.00\")\n",
    "obj_appointment.display_patient_information(appointment_count)\n",
    "total_bill += obj_appointment.get_bill()\n",
    "\n",
    "appointment_count += 1\n",
    "obj_appointment = Appointment(\"08/23/2022\", \"Eye Exam\", \"Dr. Gaddis\", \"760.00\")\n",
    "obj_appointment.display_patient_information(appointment_count)\n",
    "total_bill += obj_appointment.get_bill()\n",
    "\n",
    "print(\"Total Bill of all four appointments: \" + str(total_bill))\n"
   ]
  },
  {
   "cell_type": "markdown",
   "id": "5c24d903",
   "metadata": {},
   "source": [
    "<b>Q#4</b> (7 point) A string is an anagram of another if the second string is simply a \n",
    "scrambled version of the first. Write a python program to implement the following \n",
    "game:<br>\n",
    "a) Reads the wordmeaning.txt file that has words and their meanings in a text file. Note that your program needs to ask the user for the file to use.<br>\n",
    "b) Your program should then pick a word from the file, scramble the letters, and ask the user to unscramble it. Every run of your program should pick a word at random.<br>\n",
    "c) The user may type in the unscrambled word or may ask for the definition/meaning of the word by entering a question mark.<br> \n",
    "d) The game continues for the number of times as the number of letters in the \n",
    "word. For example if the word is “poor”, the program will allow four attempts.<br>\n",
    "e) The program will also provide the definition of the word (at the user’s request), only once. If the user enters “?” more than once, an error message will be given with the warning that the next input of a “?” will be counted as an attempt at the answer.\n",
    "f) until the user says “no” to the question: “Do you want to continue?”.\n",
    "<br><br>\n",
    "<i>Hint: <ul>\n",
    "    <li>The easiest way to store the file would be in a dictionary. You may have a dictionary that looks like the one shown below:\n",
    "        { “opulence”:”great wealth”, “penury”:”extremely poor”, …..}</li>\n",
    "<li>Please create your own file to test your code. I will be using my own test file to test your homework submission. Do not hard code filenames in your program.</li>\n",
    "   </i> </ul>\n",
    "\n",
    "<br><br>\n",
    "<b>A sample run is shown below:<br>\n",
    "Give the name of the “words and their meanings” file: <span style='color:red'> wordmeaning.txt</span><br>\n",
    "Do you want to play: <span style='color:red'>Y</span><br>\n",
    "Unscramble the following letters to form a word. Type “?” for the meaning of \n",
    "the unscrambled word: ulecenop<br>\n",
    "Enter the answer [or ? for the meaning]: <span style='color:red'>?</span><br>\n",
    "The word means: great wealth\n",
    "Enter the answer [or ? for the meaning]: <span style='color:red'>great</span><br>\n",
    "Wrong, try again<br>\n",
    "Enter the answer [or ? for the meaning]: <span style='color:red'>great</span><br>\n",
    "Wrong, try again<br>\n",
    "Enter the answer [or ? for the meaning]: <span style='color:red'>great</span><br>\n",
    "Wrong, try again<br>\n",
    "Enter the answer [or ? for the meaning]: <span style='color:red'>great</span><br>\n",
    "Wrong, try again<br>\n",
    "Enter the answer [or ? for the meaning]: <span style='color:red'>great</span><br>\n",
    "Wrong, try again<br>\n",
    "Enter the answer [or ? for the meaning]: <span style='color:red'>great</span><br>\n",
    "Wrong, try again<br>\n",
    "Enter the answer [or ? for the meaning]: <span style='color:red'>great</span><br>\n",
    "Wrong, try again<br>\n",
    "Enter the answer [or ? for the meaning]: <span style='color:red'>great</span><br>\n",
    "Wrong, you have exceeded the number of attempts. Bye!<br>\n",
    "Do you want to play: <span style='color:red'>Y</span><br>\n",
    "Unscramble the following letters to form a word. Type “?” for the meaning of \n",
    "the unscrambled word: yrnuep\n",
    "Enter the answer [or ? for the meaning]: <span style='color:red'>injury</span><br>\n",
    "Wrong, try again<br>\n",
    "Enter the answer [or ? for the meaning]: <span style='color:red'>?</span><br>\n",
    "The word means: extremely poor<br>\n",
    "Enter the answer [or ? for the meaning]: <span style='color:red'>?</span><br>\n",
    "You have been given the meaning before. Next time you ask for the meaning \n",
    "it will count as an attempt!<br>\n",
    "Enter the answer [or ? for the meaning]: <span style='color:red'>poverty</span><br>\n",
    "Wrong, try again<br>\n",
    "Enter the answer [or ? for the meaning]: <span style='color:red'>penury</span><br>\n",
    "You got it!<br>\n",
    "Do you want to play: <span style='color:red'>N</span><br>\n",
    "Goodbye!"
   ]
  },
  {
   "cell_type": "code",
   "execution_count": 4,
   "id": "ea712fea",
   "metadata": {},
   "outputs": [
    {
     "name": "stdout",
     "output_type": "stream",
     "text": [
      "Give the name of the “words and their meanings” file: \n",
      "wordmeaning.txt\n",
      "Do you want to play: y\n",
      "Unscramble the following letters to form a word. Type “?” for the meaning of the unscrambled word: puyenr penury\n",
      "You got it!\n",
      "Do you want to play: n\n",
      "Goodbye!\n"
     ]
    }
   ],
   "source": [
    "import random\n",
    "\n",
    "filename = input('Give the name of the “words and their meanings” file: \\n')\n",
    "input_file = open(filename, \"r\")\n",
    "\n",
    "def scramble_word(input_word):\n",
    "    list_data = list(input_word)\n",
    "    random.shuffle(list_data)\n",
    "    return ''.join(list_data)\n",
    "#filename = \"wordmeaning.txt\"\n",
    "#lines = open(filename).read().splitlines()\n",
    "random_line =random.choice(lines)\n",
    "if random_line:\n",
    "    word_exp = random_line.split(\",\")\n",
    "    random_word = word_exp[0]\n",
    "    word_meaning = word_exp[1]\n",
    "    word  = scramble_word(random_word)\n",
    "    total_chances = len(random_word)\n",
    "is_valid = 0\n",
    "while is_valid == 0:\n",
    "    val = input(\"Do you want to play: \")\n",
    "    if val:\n",
    "        if val.isalpha() and val.lower() == \"y\":\n",
    "            is_valid = 1\n",
    "            user_chance = 0\n",
    "            user_input = input(\"Unscramble the following letters to form a word. Type “?” for the meaning of the unscrambled word: \"+str(word)+\" \")\n",
    "            is_input_valid = 0\n",
    "            if user_input:\n",
    "                while is_input_valid == 0 and user_chance < total_chances:\n",
    "                    while user_input == \"?\":\n",
    "                        user_input = input(\"The word means: \"+str(word_meaning)+\" wealth Enter the answer [or ? for the meaning]: \")\n",
    "\n",
    "                    while user_input != \"?\":\n",
    "                        user_chance += 1\n",
    "                        user_input = user_input.lower()\n",
    "                        if random_word != user_input:\n",
    "                            print(\"Wrong, try again=\")\n",
    "                            user_input = input(\"Enter the answer [or ? for the meaning]: \")\n",
    "                        if random_word == user_input:\n",
    "                            is_input_valid = 1\n",
    "                            print(\"You got it!\")\n",
    "                            is_valid = 0\n",
    "                            break\n",
    "\n",
    "                        if user_chance >= total_chances:\n",
    "                            break\n",
    "\n",
    "                if is_input_valid == 0:\n",
    "                    print(\"Wrong, you have exceeded the number of attempts. Bye!\")\n",
    "                    is_valid = 0\n",
    "        elif val.isalpha() and val.lower() == \"n\":\n",
    "            print(\"Goodbye!\")\n",
    "            is_valid = 1\n",
    "        else:\n",
    "            print(\"Invalid input! Try again \")\n"
   ]
  },
  {
   "cell_type": "markdown",
   "id": "fd642895",
   "metadata": {},
   "source": [
    "<h1>Important Points:</h1>\n",
    "<ul>\n",
    "    <li>Make sure you put your name at the top of the assignment file as a comment.</li>\n",
    "    <li>Write your code for each question in the specified cell</li>\n",
    "    <li>Use meaningful variables in your code</li>\n",
    "    <li>You should only use the programming concepts that have been covered in this course.</li>\n",
    "    <li>Try to add comments to your code.</li>\n",
    "    <li>Make sure to save the ipython file (this file) with the outputs.</li>\n",
    "    <li>The <b>due date</b> for this assignment is:<span style='color:red'> --<b> Nov 20 at 11:59 PM</b>.</span></li>\n",
    "    <li><u><b>No late submission will be accepted.</b></u></li>\n",
    "    <li><u><b>If you copy your code from an outside source or from another student you will get no point for your work.</b></u></li>\n",
    "</ul>"
   ]
  }
 ],
 "metadata": {
  "kernelspec": {
   "display_name": "Python 3 (ipykernel)",
   "language": "python",
   "name": "python3"
  },
  "language_info": {
   "codemirror_mode": {
    "name": "ipython",
    "version": 3
   },
   "file_extension": ".py",
   "mimetype": "text/x-python",
   "name": "python",
   "nbconvert_exporter": "python",
   "pygments_lexer": "ipython3",
   "version": "3.9.12"
  }
 },
 "nbformat": 4,
 "nbformat_minor": 5
}
